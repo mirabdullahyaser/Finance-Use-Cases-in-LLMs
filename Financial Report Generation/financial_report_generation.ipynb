{
 "cells": [
  {
   "attachments": {},
   "cell_type": "markdown",
   "metadata": {},
   "source": [
    "## 📊 **Financial Report Generation with Economic Indicators**\n",
    "\n",
    "### **Overview**\n",
    "This project focuses on creating a concise financial report for companies or stocks using the latest economic and market data. By leveraging open-source tools and APIs, we aim to simplify the process without relying on training or fine-tuning large language models (LLMs) or machine learning models.\n",
    "\n",
    "---\n",
    "\n",
    "### **Objectives**\n",
    "- Build a financial report using real-time economic indicators from the **Financial Modeling Prep API**.\n",
    "- Streamline data processing and retrieval to produce accurate and actionable insights.\n",
    "- Avoid the computational overhead of training custom AI models by utilizing pre-trained open-source models.\n",
    "\n",
    "---\n",
    "\n",
    "### **Methodology**\n",
    "1. **Data Retrieval**:  \n",
    "   Fetch the latest company metrics and market economic indicators using the Financial Modeling Prep API.\n",
    "\n",
    "2. **Data Preprocessing**:  \n",
    "   Process the retrieved data using Python and save it in a structured CSV format.\n",
    "\n",
    "3. **Vector Database**:  \n",
    "   Load the processed data into a vector database using an embedding model from Hugging Face.\n",
    "\n",
    "4. **RAG QA Chain**:  \n",
    "   Build a Retrieval-Augmented Generation (RAG) architecture with **LangChain** and the **Falcon 7B LLM**.\n",
    "\n",
    "5. **Evaluation**:  \n",
    "   Query the RAG system and evaluate the quality and relevance of the responses.\n"
   ]
  },
  {
   "attachments": {},
   "cell_type": "markdown",
   "metadata": {},
   "source": [
    "### Installing Dependencies and Packages\n",
    "\n",
    "#### Dependencies\n",
    "\n",
    "\n",
    "- Install Anaconda from [Anaconda](https://www.anaconda.com/download/success)\n",
    "- Create a conda virtual environment `conda create finance-venv`\n",
    "- Activate the conda virtual environment `conda activate finance-venv`\n",
    "- Install Rust from [Rust](https://rustup.rs/) \n",
    "- Install transformers from conda with `conda install -c huggingface transformers`\n",
    "- Install sentence-transformers from conda with `conda install -c conda-forge sentence-transformers`\n",
    "\n",
    "\n",
    "#### Python Packages\n",
    "- langchain\n",
    "- langchain-community\n",
    "- langchain-core\n",
    "- pandas\n",
    "- python-dotenv\n",
    "- torch\n",
    "- torchvision\n",
    "- torchaudio\n",
    "- chromadb\n",
    "- sentence-transformers"
   ]
  },
  {
   "cell_type": "code",
   "execution_count": null,
   "metadata": {},
   "outputs": [],
   "source": [
    "%pip install langchain langchain-community langchain-core pandas python-dotenv chromadb"
   ]
  },
  {
   "cell_type": "code",
   "execution_count": null,
   "metadata": {},
   "outputs": [],
   "source": [
    "%pip install --upgrade --force-reinstall torch torchvision torchaudio"
   ]
  },
  {
   "attachments": {},
   "cell_type": "markdown",
   "metadata": {},
   "source": [
    "### Importing Packages"
   ]
  },
  {
   "cell_type": "code",
   "execution_count": 8,
   "metadata": {},
   "outputs": [],
   "source": [
    "from urllib.request import urlopen\n",
    "import json\n",
    "import pandas as pd\n",
    "from urllib.error import URLError, HTTPError\n",
    "import ssl\n",
    "from dotenv import load_dotenv\n",
    "import os\n",
    "from langchain_community.embeddings import HuggingFaceEmbeddings\n",
    "from langchain.document_loaders import CSVLoader\n",
    "from langchain.text_splitter import RecursiveCharacterTextSplitter\n",
    "from langchain.vectorstores import Chroma\n",
    "from langchain.chains import RetrievalQA\n",
    "from langchain.prompts import PromptTemplate\n",
    "from langchain_community.llms import HuggingFaceHub\n",
    "from IPython.display import display, Markdown\n",
    "import warnings\n",
    "warnings.filterwarnings('ignore')\n"
   ]
  },
  {
   "attachments": {},
   "cell_type": "markdown",
   "metadata": {},
   "source": [
    "### Settings for Financial Modeling Prep\n",
    "\n",
    "- Create an account on [financial modeling prep](https://site.financialmodelingprep.com/)\n",
    "- Create a file **.env** in the project folder\n",
    "- Set the API key in this file as `FINANCIAL_MODELING_PREP_API_KEY=YOUR_KEY`"
   ]
  },
  {
   "cell_type": "code",
   "execution_count": 2,
   "metadata": {},
   "outputs": [],
   "source": [
    "load_dotenv()\n",
    "\n",
    "API_KEY = os.getenv(\"FINANCIAL_MODELING_PREP_API_KEY\")"
   ]
  },
  {
   "attachments": {},
   "cell_type": "markdown",
   "metadata": {},
   "source": [
    "### Data Retreival\n",
    "This process demonstrates how to fetch economic indicators for a specific stock ticker using the **Financial Modeling Prep API**. It is designed to handle multiple exchanges and process the data into a structured format for further analysis.\n"
   ]
  },
  {
   "cell_type": "code",
   "execution_count": 3,
   "metadata": {},
   "outputs": [
    {
     "data": {
      "text/html": [
       "<div>\n",
       "<style scoped>\n",
       "    .dataframe tbody tr th:only-of-type {\n",
       "        vertical-align: middle;\n",
       "    }\n",
       "\n",
       "    .dataframe tbody tr th {\n",
       "        vertical-align: top;\n",
       "    }\n",
       "\n",
       "    .dataframe thead th {\n",
       "        text-align: right;\n",
       "    }\n",
       "</style>\n",
       "<table border=\"1\" class=\"dataframe\">\n",
       "  <thead>\n",
       "    <tr style=\"text-align: right;\">\n",
       "      <th></th>\n",
       "      <th>symbol</th>\n",
       "      <th>name</th>\n",
       "      <th>price</th>\n",
       "      <th>changesPercentage</th>\n",
       "      <th>change</th>\n",
       "      <th>dayLow</th>\n",
       "      <th>dayHigh</th>\n",
       "      <th>yearHigh</th>\n",
       "      <th>yearLow</th>\n",
       "      <th>marketCap</th>\n",
       "      <th>...</th>\n",
       "      <th>exchange</th>\n",
       "      <th>volume</th>\n",
       "      <th>avgVolume</th>\n",
       "      <th>open</th>\n",
       "      <th>previousClose</th>\n",
       "      <th>eps</th>\n",
       "      <th>pe</th>\n",
       "      <th>earningsAnnouncement</th>\n",
       "      <th>sharesOutstanding</th>\n",
       "      <th>timestamp</th>\n",
       "    </tr>\n",
       "  </thead>\n",
       "  <tbody>\n",
       "    <tr>\n",
       "      <th>0</th>\n",
       "      <td>NVDA</td>\n",
       "      <td>NVIDIA Corporation</td>\n",
       "      <td>137.01</td>\n",
       "      <td>-2.0868</td>\n",
       "      <td>-2.92</td>\n",
       "      <td>134.71</td>\n",
       "      <td>139.02</td>\n",
       "      <td>152.89</td>\n",
       "      <td>47.32</td>\n",
       "      <td>3355374900000</td>\n",
       "      <td>...</td>\n",
       "      <td>NASDAQ</td>\n",
       "      <td>169431279</td>\n",
       "      <td>224910079</td>\n",
       "      <td>138.555</td>\n",
       "      <td>139.93</td>\n",
       "      <td>2.54</td>\n",
       "      <td>53.94</td>\n",
       "      <td>2025-02-26T21:00:00.000+0000</td>\n",
       "      <td>24490000000</td>\n",
       "      <td>1735333202</td>\n",
       "    </tr>\n",
       "  </tbody>\n",
       "</table>\n",
       "<p>1 rows × 22 columns</p>\n",
       "</div>"
      ],
      "text/plain": [
       "  symbol                name   price  changesPercentage  change  dayLow  \\\n",
       "0   NVDA  NVIDIA Corporation  137.01            -2.0868   -2.92  134.71   \n",
       "\n",
       "   dayHigh  yearHigh  yearLow      marketCap  ...  exchange     volume  \\\n",
       "0   139.02    152.89    47.32  3355374900000  ...    NASDAQ  169431279   \n",
       "\n",
       "   avgVolume     open  previousClose   eps     pe  \\\n",
       "0  224910079  138.555         139.93  2.54  53.94   \n",
       "\n",
       "           earningsAnnouncement  sharesOutstanding   timestamp  \n",
       "0  2025-02-26T21:00:00.000+0000        24490000000  1735333202  \n",
       "\n",
       "[1 rows x 22 columns]"
      ]
     },
     "execution_count": 3,
     "metadata": {},
     "output_type": "execute_result"
    }
   ],
   "source": [
    "TICKER = \"NVDA\"\n",
    "EXCHANGE = \"US\"\n",
    "\n",
    "def get_economic_data(ticker, exchange):\n",
    "  \n",
    "  if exchange == \"NSE\":\n",
    "    url = f\"https://financialmodelingprep.com/api/v3/search?query={ticker}&exchange=NSE&apikey={API_KEY}\"\n",
    "  else:\n",
    "    url = f\"https://financialmodelingprep.com/api/v3/quote/{ticker}?apikey={API_KEY}\"\n",
    "  \n",
    "  try:\n",
    "      # Create SSL context\n",
    "      ssl_context = ssl.create_default_context()\n",
    "\n",
    "      # Fetch and decode data\n",
    "      with urlopen(url, context=ssl_context) as response:\n",
    "          data = response.read().decode(\"utf-8\")\n",
    "          return json.loads(data)\n",
    "  \n",
    "  except HTTPError as e:\n",
    "      print(f\"HTTP Error: {e.code} - {e.reason}\")\n",
    "  except URLError as e:\n",
    "      print(f\"URL Error: {e.reason}\")\n",
    "  except json.JSONDecodeError as e:\n",
    "      print(f\"JSON Decode Error: {e.msg}\")\n",
    "  except Exception as e:\n",
    "      print(f\"Unexpected error: {str(e)}\")\n",
    "\n",
    "\n",
    "economic_data_json = get_economic_data(TICKER, EXCHANGE)\n",
    "economic_data_df = pd.DataFrame(economic_data_json)\n",
    "economic_data_df"
   ]
  },
  {
   "attachments": {},
   "cell_type": "markdown",
   "metadata": {},
   "source": [
    "### Preprocessing Data\n",
    "\n",
    "Converting columns of dataframe to date format"
   ]
  },
  {
   "cell_type": "code",
   "execution_count": 4,
   "metadata": {},
   "outputs": [
    {
     "data": {
      "text/html": [
       "<div>\n",
       "<style scoped>\n",
       "    .dataframe tbody tr th:only-of-type {\n",
       "        vertical-align: middle;\n",
       "    }\n",
       "\n",
       "    .dataframe tbody tr th {\n",
       "        vertical-align: top;\n",
       "    }\n",
       "\n",
       "    .dataframe thead th {\n",
       "        text-align: right;\n",
       "    }\n",
       "</style>\n",
       "<table border=\"1\" class=\"dataframe\">\n",
       "  <thead>\n",
       "    <tr style=\"text-align: right;\">\n",
       "      <th></th>\n",
       "      <th>symbol</th>\n",
       "      <th>name</th>\n",
       "      <th>price</th>\n",
       "      <th>changesPercentage</th>\n",
       "      <th>change</th>\n",
       "      <th>dayLow</th>\n",
       "      <th>dayHigh</th>\n",
       "      <th>yearHigh</th>\n",
       "      <th>yearLow</th>\n",
       "      <th>marketCap</th>\n",
       "      <th>...</th>\n",
       "      <th>exchange</th>\n",
       "      <th>volume</th>\n",
       "      <th>avgVolume</th>\n",
       "      <th>open</th>\n",
       "      <th>previousClose</th>\n",
       "      <th>eps</th>\n",
       "      <th>pe</th>\n",
       "      <th>earningsAnnouncement</th>\n",
       "      <th>sharesOutstanding</th>\n",
       "      <th>timestamp</th>\n",
       "    </tr>\n",
       "  </thead>\n",
       "  <tbody>\n",
       "    <tr>\n",
       "      <th>0</th>\n",
       "      <td>NVDA</td>\n",
       "      <td>NVIDIA Corporation</td>\n",
       "      <td>137.01</td>\n",
       "      <td>-2.0868</td>\n",
       "      <td>-2.92</td>\n",
       "      <td>134.71</td>\n",
       "      <td>139.02</td>\n",
       "      <td>152.89</td>\n",
       "      <td>47.32</td>\n",
       "      <td>3355374900000</td>\n",
       "      <td>...</td>\n",
       "      <td>NASDAQ</td>\n",
       "      <td>169431279</td>\n",
       "      <td>224910079</td>\n",
       "      <td>138.555</td>\n",
       "      <td>139.93</td>\n",
       "      <td>2.54</td>\n",
       "      <td>53.94</td>\n",
       "      <td>2025-02-26 21:00:00+00:00</td>\n",
       "      <td>24490000000</td>\n",
       "      <td>1970-01-01 00:00:01.735333202</td>\n",
       "    </tr>\n",
       "  </tbody>\n",
       "</table>\n",
       "<p>1 rows × 22 columns</p>\n",
       "</div>"
      ],
      "text/plain": [
       "  symbol                name   price  changesPercentage  change  dayLow  \\\n",
       "0   NVDA  NVIDIA Corporation  137.01            -2.0868   -2.92  134.71   \n",
       "\n",
       "   dayHigh  yearHigh  yearLow      marketCap  ...  exchange     volume  \\\n",
       "0   139.02    152.89    47.32  3355374900000  ...    NASDAQ  169431279   \n",
       "\n",
       "   avgVolume     open  previousClose   eps     pe      earningsAnnouncement  \\\n",
       "0  224910079  138.555         139.93  2.54  53.94 2025-02-26 21:00:00+00:00   \n",
       "\n",
       "   sharesOutstanding                     timestamp  \n",
       "0        24490000000 1970-01-01 00:00:01.735333202  \n",
       "\n",
       "[1 rows x 22 columns]"
      ]
     },
     "execution_count": 4,
     "metadata": {},
     "output_type": "execute_result"
    }
   ],
   "source": [
    "def preprocess_economic_data(df):\n",
    "    df['timestamp'] = pd.to_datetime(df['timestamp'])\n",
    "    df['earningsAnnouncement'] = pd.to_datetime(df['earningsAnnouncement'])\n",
    "    return df\n",
    "\n",
    "preprocessed_economic_data_df = preprocess_economic_data(economic_data_df)\n",
    "preprocessed_economic_data_df"
   ]
  },
  {
   "attachments": {},
   "cell_type": "markdown",
   "metadata": {},
   "source": [
    "### Storing Preprocessed Data\n",
    "\n",
    "Storing the preprocessed data as a CSV file"
   ]
  },
  {
   "cell_type": "code",
   "execution_count": 7,
   "metadata": {},
   "outputs": [],
   "source": [
    "preprocessed_economic_data_df.to_csv(\"data/processed/eco_ind.csv\")"
   ]
  },
  {
   "attachments": {},
   "cell_type": "markdown",
   "metadata": {},
   "source": [
    "### Embeddings\n",
    "\n",
    "Initializing Embeddings"
   ]
  },
  {
   "cell_type": "code",
   "execution_count": 5,
   "metadata": {},
   "outputs": [
    {
     "name": "stderr",
     "output_type": "stream",
     "text": [
      "C:\\Users\\Edith\\AppData\\Local\\Temp\\ipykernel_12200\\3528460536.py:12: LangChainDeprecationWarning: The class `HuggingFaceEmbeddings` was deprecated in LangChain 0.2.2 and will be removed in 1.0. An updated version of the class exists in the :class:`~langchain-huggingface package and should be used instead. To use it run `pip install -U :class:`~langchain-huggingface` and import as `from :class:`~langchain_huggingface import HuggingFaceEmbeddings``.\n",
      "  embeddings = HuggingFaceEmbeddings()\n",
      "C:\\Users\\Edith\\AppData\\Local\\Temp\\ipykernel_12200\\3528460536.py:12: LangChainDeprecationWarning: Default values for HuggingFaceEmbeddings.model_name were deprecated in LangChain 0.2.16 and will be removed in 0.4.0. Explicitly pass a model_name to the HuggingFaceEmbeddings constructor instead.\n",
      "  embeddings = HuggingFaceEmbeddings()\n",
      "c:\\Users\\Edith\\anaconda3\\envs\\finance-llm-conda-venv\\lib\\site-packages\\tqdm\\auto.py:21: TqdmWarning: IProgress not found. Please update jupyter and ipywidgets. See https://ipywidgets.readthedocs.io/en/stable/user_install.html\n",
      "  from .autonotebook import tqdm as notebook_tqdm\n"
     ]
    }
   ],
   "source": [
    "# Using Document loader from Huggingface to generate documents of CSV file\n",
    "loader_eco = CSVLoader('data/processed/eco_ind.csv')\n",
    "documents_eco = loader_eco.load()\n",
    "\n",
    "# Initializing text splitter\n",
    "text_splitter = RecursiveCharacterTextSplitter(chunk_size=50, chunk_overlap=5)\n",
    "\n",
    "# Splitting documents with text splitter\n",
    "texts_eco = text_splitter.split_documents(documents_eco)\n",
    "\n",
    "# Initializing Embeddings\n",
    "embeddings = HuggingFaceEmbeddings()"
   ]
  },
  {
   "attachments": {},
   "cell_type": "markdown",
   "metadata": {},
   "source": [
    "### Vectore Database\n",
    "\n",
    "Initializing a vector database and storing the embeddings of documents in the vector databbase"
   ]
  },
  {
   "cell_type": "code",
   "execution_count": 7,
   "metadata": {},
   "outputs": [],
   "source": [
    "persist_directory = 'docs/chroma_rag/'\n",
    "\n",
    "economic_langchain_chroma = Chroma.from_documents(\n",
    "    documents=texts_eco, \n",
    "    collection_name=\"economic_data\",\n",
    "    embedding=embeddings,\n",
    "    persist_directory=persist_directory\n",
    ")"
   ]
  },
  {
   "attachments": {},
   "cell_type": "markdown",
   "metadata": {},
   "source": [
    "### Settings for Huggingfacehub API"
   ]
  },
  {
   "cell_type": "code",
   "execution_count": 10,
   "metadata": {},
   "outputs": [],
   "source": [
    "load_dotenv()\n",
    "\n",
    "HUGGINGFACEHUB_API_KEY = os.getenv(\"HUGGINGFACEHUB_API_KEY\")"
   ]
  },
  {
   "attachments": {},
   "cell_type": "markdown",
   "metadata": {},
   "source": [
    "### RAG Pipeline\n",
    "\n",
    "Building the Retreival Augmented Generation pipeline"
   ]
  },
  {
   "cell_type": "code",
   "execution_count": 15,
   "metadata": {},
   "outputs": [
    {
     "data": {
      "text/plain": [
       "{'query': 'Nvidia(NVDA) Financial Report',\n",
       " 'result': \"You are a Financial Market Expert and Get the Market Economic Data and Market News about Company and Build the Financial Report for me. Understand this Market Information : 0\\nsymbol: NVDA\\nname: NVIDIA Corporation\\n\\nearningsAnnouncement: 2025-02-26 21:00:00+00:00 and Answer the Query for this Company Nvidia(NVDA) Financial Report. I just need the data into Tabular Form as well.\\n<p>NVIDIA Corporation (NVDA) is a leading provider of visual computing technologies. The company designs and develops graphics processing units (GPUs), which are used in gaming, professional visualization, and other applications. NVIDIA's GPUs are used in gaming, professional visualization, and other applications. The company's products are used in gaming, professional visualization, and other applications. The company's products are used in gaming, professional visualization, and other applications. The company'\",\n",
       " 'source_documents': [Document(metadata={'row': 0, 'source': 'data/processed/eco_ind.csv'}, page_content=': 0\\nsymbol: NVDA\\nname: NVIDIA Corporation'),\n",
       "  Document(metadata={'row': 0, 'source': 'data/processed/eco_ind.csv'}, page_content='earningsAnnouncement: 2025-02-26 21:00:00+00:00')]}"
      ]
     },
     "execution_count": 15,
     "metadata": {},
     "output_type": "execute_result"
    }
   ],
   "source": [
    "# Initializing the LLM model\n",
    "llm = HuggingFaceHub(\n",
    "    repo_id=\"tiiuae/falcon-7b-instruct\",\n",
    "    model_kwargs={\"temperature\": 0.1},\n",
    "    huggingfacehub_api_token = HUGGINGFACEHUB_API_KEY\n",
    ")\n",
    "\n",
    "# Initializing the retreiver for RAG Pipline\n",
    "retriever_eco = economic_langchain_chroma.as_retriever(search_kwargs={\"k\":2})\n",
    "\n",
    "# Template prompt for RAG pipeline\n",
    "template = \"\"\"You are a Financial Market Expert and Get the Market Economic Data and Market News about Company and Build the Financial Report for me. Understand this Market Information {context} and Answer the Query for this Company {question}. I just need the data into Tabular Form as well.\"\"\"\n",
    "\n",
    "# Initializing prompt template\n",
    "PROMPT = PromptTemplate(input_variables=[\"context\",\"question\"], template=template)\n",
    "\n",
    "# Initializing retreiver chain\n",
    "qa_with_sources = RetrievalQA.from_chain_type(llm=llm, chain_type=\"stuff\",chain_type_kwargs = {\"prompt\": PROMPT}, retriever=retriever_eco, return_source_documents=True)\n",
    "\n",
    "user_prompt = \"Nvidia(NVDA) Financial Report\"\n",
    "llm_response = qa_with_sources({\"query\": user_prompt})\n",
    "llm_response"
   ]
  },
  {
   "cell_type": "code",
   "execution_count": 14,
   "metadata": {},
   "outputs": [
    {
     "data": {
      "text/markdown": [
       "You are a Financial Market Expert and Get the Market Economic Data and Market News about Company and Build the Financial Report for me. Understand this Market Information : 0\n",
       "symbol: NVDA\n",
       "name: NVIDIA Corporation\n",
       "\n",
       "earningsAnnouncement: 2025-02-26 21:00:00+00:00 and Answer the Query for this Company Nvidia(NVDA) Financial Report. I just need the data into Tabular Form as well.\n",
       "<p>NVIDIA Corporation (NVDA) is a leading provider of visual computing technologies. The company designs and develops graphics processing units (GPUs), which are used in gaming, professional visualization, and other applications. NVIDIA's GPUs are used in gaming, professional visualization, and other applications. The company's products are used in gaming, professional visualization, and other applications. The company's products are used in gaming, professional visualization, and other applications. The company'"
      ],
      "text/plain": [
       "<IPython.core.display.Markdown object>"
      ]
     },
     "execution_count": 14,
     "metadata": {},
     "output_type": "execute_result"
    }
   ],
   "source": [
    "Markdown(llm_response['result'])"
   ]
  }
 ],
 "metadata": {
  "kernelspec": {
   "display_name": "finance-llm-conda-venv",
   "language": "python",
   "name": "python3"
  },
  "language_info": {
   "codemirror_mode": {
    "name": "ipython",
    "version": 3
   },
   "file_extension": ".py",
   "mimetype": "text/x-python",
   "name": "python",
   "nbconvert_exporter": "python",
   "pygments_lexer": "ipython3",
   "version": "3.10.16"
  },
  "orig_nbformat": 4,
  "vscode": {
   "interpreter": {
    "hash": "d781f1cb5990c1dfa0e5cca666d7218036c3fc067e283c7bc1088274c03c75ae"
   }
  }
 },
 "nbformat": 4,
 "nbformat_minor": 2
}
