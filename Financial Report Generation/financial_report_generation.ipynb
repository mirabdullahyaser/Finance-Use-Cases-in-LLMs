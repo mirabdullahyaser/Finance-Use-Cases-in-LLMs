{
 "cells": [
  {
   "attachments": {},
   "cell_type": "markdown",
   "metadata": {},
   "source": [
    "## 📊 **Financial Report Generation with Economic Indicators**\n",
    "\n",
    "### **Overview**\n",
    "This project focuses on creating a concise financial report for companies or stocks using the latest economic and market data. By leveraging open-source tools and APIs, we aim to simplify the process without relying on training or fine-tuning large language models (LLMs) or machine learning models.\n",
    "\n",
    "---\n",
    "\n",
    "### **Objectives**\n",
    "- Build a financial report using real-time economic indicators from the **Financial Modeling Prep API**.\n",
    "- Streamline data processing and retrieval to produce accurate and actionable insights.\n",
    "- Avoid the computational overhead of training custom AI models by utilizing pre-trained open-source models.\n",
    "\n",
    "---\n",
    "\n",
    "### **Methodology**\n",
    "1. **Data Retrieval**:  \n",
    "   Fetch the latest company metrics and market economic indicators using the Financial Modeling Prep API.\n",
    "\n",
    "2. **Data Preprocessing**:  \n",
    "   Process the retrieved data using Python and save it in a structured CSV format.\n",
    "\n",
    "3. **Vector Database**:  \n",
    "   Load the processed data into a vector database using an embedding model from Hugging Face.\n",
    "\n",
    "4. **RAG QA Chain**:  \n",
    "   Build a Retrieval-Augmented Generation (RAG) architecture with **LangChain** and the **Falcon 7B LLM**.\n",
    "\n",
    "5. **Evaluation**:  \n",
    "   Query the RAG system and evaluate the quality and relevance of the responses.\n"
   ]
  },
  {
   "attachments": {},
   "cell_type": "markdown",
   "metadata": {},
   "source": [
    "### Installing Dependencies and Packages\n",
    "\n",
    "#### Dependencies\n",
    "\n",
    "\n",
    "- Install Anaconda from [Anaconda](https://www.anaconda.com/download/success)\n",
    "- Create a conda virtual environment `conda create finance-venv`\n",
    "- Activate the conda virtual environment `conda activate finance-venv`\n",
    "- Install Rust from [Rust](https://rustup.rs/) \n",
    "- Install transformers from conda with `conda install -c huggingface transformers`\n",
    "- Install sentence-transformers from conda with `conda install -c conda-forge sentence-transformers`\n",
    "\n",
    "\n",
    "#### Python Packages\n",
    "- langchain\n",
    "- langchain-community\n",
    "- langchain-core\n",
    "- pandas\n",
    "- python-dotenv\n",
    "- torch\n",
    "- torchvision\n",
    "- torchaudio\n",
    "- chromadb\n",
    "- sentence-transformers"
   ]
  },
  {
   "cell_type": "code",
   "execution_count": null,
   "metadata": {},
   "outputs": [],
   "source": [
    "%pip install langchain langchain-community langchain-core pandas python-dotenv chromadb"
   ]
  },
  {
   "cell_type": "code",
   "execution_count": null,
   "metadata": {},
   "outputs": [],
   "source": [
    "%pip install --upgrade --force-reinstall torch torchvision torchaudio"
   ]
  },
  {
   "attachments": {},
   "cell_type": "markdown",
   "metadata": {},
   "source": [
    "### Importing Packages"
   ]
  },
  {
   "cell_type": "code",
   "execution_count": 21,
   "metadata": {},
   "outputs": [],
   "source": [
    "from urllib.request import urlopen\n",
    "import json\n",
    "import pandas as pd\n",
    "from urllib.error import URLError, HTTPError\n",
    "import ssl\n",
    "from dotenv import load_dotenv\n",
    "import os\n",
    "from langchain_community.embeddings import HuggingFaceEmbeddings\n",
    "from langchain.document_loaders import CSVLoader\n",
    "from langchain.text_splitter import RecursiveCharacterTextSplitter\n",
    "from langchain.vectorstores import Chroma\n",
    "from langchain.chains import RetrievalQA\n",
    "from langchain.prompts import PromptTemplate\n",
    "from langchain_community.llms import HuggingFaceHub\n",
    "from IPython.display import display, Markdown\n",
    "import warnings\n",
    "warnings.filterwarnings('ignore')"
   ]
  },
  {
   "attachments": {},
   "cell_type": "markdown",
   "metadata": {},
   "source": [
    "### Settings for Financial Modeling Prep\n",
    "\n",
    "- Create an account on [financial modeling prep](https://site.financialmodelingprep.com/)\n",
    "- Click on API URL button [API URL](https://site.financialmodelingprep.com/playground/)\n",
    "- Copy the API Key from URL\n",
    "- Create a file **.env** in the project folder\n",
    "- Set the API key in this file as `FINANCIAL_MODELING_PREP_API_KEY=YOUR_KEY` in the **.env**"
   ]
  },
  {
   "cell_type": "code",
   "execution_count": 22,
   "metadata": {},
   "outputs": [],
   "source": [
    "load_dotenv()\n",
    "\n",
    "API_KEY = os.getenv(\"FINANCIAL_MODELING_PREP_API_KEY\")"
   ]
  },
  {
   "attachments": {},
   "cell_type": "markdown",
   "metadata": {},
   "source": [
    "### Data Retreival\n",
    "This process demonstrates how to fetch economic indicators for a specific stock ticker using the **Financial Modeling Prep API**. It is designed to handle multiple exchanges and process the data into a structured format for further analysis.\n"
   ]
  },
  {
   "cell_type": "code",
   "execution_count": 24,
   "metadata": {},
   "outputs": [
    {
     "data": {
      "text/html": [
       "<div>\n",
       "<style scoped>\n",
       "    .dataframe tbody tr th:only-of-type {\n",
       "        vertical-align: middle;\n",
       "    }\n",
       "\n",
       "    .dataframe tbody tr th {\n",
       "        vertical-align: top;\n",
       "    }\n",
       "\n",
       "    .dataframe thead th {\n",
       "        text-align: right;\n",
       "    }\n",
       "</style>\n",
       "<table border=\"1\" class=\"dataframe\">\n",
       "  <thead>\n",
       "    <tr style=\"text-align: right;\">\n",
       "      <th></th>\n",
       "      <th>symbol</th>\n",
       "      <th>name</th>\n",
       "      <th>price</th>\n",
       "      <th>changesPercentage</th>\n",
       "      <th>change</th>\n",
       "      <th>dayLow</th>\n",
       "      <th>dayHigh</th>\n",
       "      <th>yearHigh</th>\n",
       "      <th>yearLow</th>\n",
       "      <th>marketCap</th>\n",
       "      <th>...</th>\n",
       "      <th>exchange</th>\n",
       "      <th>volume</th>\n",
       "      <th>avgVolume</th>\n",
       "      <th>open</th>\n",
       "      <th>previousClose</th>\n",
       "      <th>eps</th>\n",
       "      <th>pe</th>\n",
       "      <th>earningsAnnouncement</th>\n",
       "      <th>sharesOutstanding</th>\n",
       "      <th>timestamp</th>\n",
       "    </tr>\n",
       "  </thead>\n",
       "  <tbody>\n",
       "    <tr>\n",
       "      <th>0</th>\n",
       "      <td>NVDA</td>\n",
       "      <td>NVIDIA Corporation</td>\n",
       "      <td>138.41</td>\n",
       "      <td>1.0218</td>\n",
       "      <td>1.4</td>\n",
       "      <td>134.02</td>\n",
       "      <td>140.27</td>\n",
       "      <td>152.89</td>\n",
       "      <td>47.32</td>\n",
       "      <td>3389660900000</td>\n",
       "      <td>...</td>\n",
       "      <td>NASDAQ</td>\n",
       "      <td>142263342</td>\n",
       "      <td>224002616</td>\n",
       "      <td>134.83</td>\n",
       "      <td>137.01</td>\n",
       "      <td>2.53</td>\n",
       "      <td>54.71</td>\n",
       "      <td>2025-02-26T21:00:00.000+0000</td>\n",
       "      <td>24490000000</td>\n",
       "      <td>1735591129</td>\n",
       "    </tr>\n",
       "  </tbody>\n",
       "</table>\n",
       "<p>1 rows × 22 columns</p>\n",
       "</div>"
      ],
      "text/plain": [
       "  symbol                name   price  changesPercentage  change  dayLow  \\\n",
       "0   NVDA  NVIDIA Corporation  138.41             1.0218     1.4  134.02   \n",
       "\n",
       "   dayHigh  yearHigh  yearLow      marketCap  ...  exchange     volume  \\\n",
       "0   140.27    152.89    47.32  3389660900000  ...    NASDAQ  142263342   \n",
       "\n",
       "   avgVolume    open  previousClose   eps     pe  \\\n",
       "0  224002616  134.83         137.01  2.53  54.71   \n",
       "\n",
       "           earningsAnnouncement  sharesOutstanding   timestamp  \n",
       "0  2025-02-26T21:00:00.000+0000        24490000000  1735591129  \n",
       "\n",
       "[1 rows x 22 columns]"
      ]
     },
     "execution_count": 24,
     "metadata": {},
     "output_type": "execute_result"
    }
   ],
   "source": [
    "TICKER = \"NVDA\"\n",
    "EXCHANGE = \"US\"\n",
    "\n",
    "def get_economic_data(ticker, exchange):\n",
    "  \n",
    "  if exchange == \"NSE\":\n",
    "    url = f\"https://financialmodelingprep.com/api/v3/search?query={ticker}&exchange=NSE&apikey={API_KEY}\"\n",
    "  else:\n",
    "    url = f\"https://financialmodelingprep.com/api/v3/quote/{ticker}?apikey={API_KEY}\"\n",
    "  \n",
    "  try:\n",
    "      # Create SSL context\n",
    "      ssl_context = ssl.create_default_context()\n",
    "\n",
    "      # Fetch and decode data\n",
    "      with urlopen(url, context=ssl_context) as response:\n",
    "          data = response.read().decode(\"utf-8\")\n",
    "          return json.loads(data)\n",
    "  \n",
    "  except HTTPError as e:\n",
    "      print(f\"HTTP Error: {e.code} - {e.reason}\")\n",
    "  except URLError as e:\n",
    "      print(f\"URL Error: {e.reason}\")\n",
    "  except json.JSONDecodeError as e:\n",
    "      print(f\"JSON Decode Error: {e.msg}\")\n",
    "  except Exception as e:\n",
    "      print(f\"Unexpected error: {str(e)}\")\n",
    "\n",
    "\n",
    "economic_data_json = get_economic_data(TICKER, EXCHANGE)\n",
    "economic_data_df = pd.DataFrame(economic_data_json)\n",
    "economic_data_df"
   ]
  },
  {
   "attachments": {},
   "cell_type": "markdown",
   "metadata": {},
   "source": [
    "### Preprocessing Data\n",
    "\n",
    "Converting columns of dataframe that contains time to date time format for better analytics"
   ]
  },
  {
   "cell_type": "code",
   "execution_count": 26,
   "metadata": {},
   "outputs": [
    {
     "data": {
      "text/html": [
       "<div>\n",
       "<style scoped>\n",
       "    .dataframe tbody tr th:only-of-type {\n",
       "        vertical-align: middle;\n",
       "    }\n",
       "\n",
       "    .dataframe tbody tr th {\n",
       "        vertical-align: top;\n",
       "    }\n",
       "\n",
       "    .dataframe thead th {\n",
       "        text-align: right;\n",
       "    }\n",
       "</style>\n",
       "<table border=\"1\" class=\"dataframe\">\n",
       "  <thead>\n",
       "    <tr style=\"text-align: right;\">\n",
       "      <th></th>\n",
       "      <th>symbol</th>\n",
       "      <th>name</th>\n",
       "      <th>price</th>\n",
       "      <th>changesPercentage</th>\n",
       "      <th>change</th>\n",
       "      <th>dayLow</th>\n",
       "      <th>dayHigh</th>\n",
       "      <th>yearHigh</th>\n",
       "      <th>yearLow</th>\n",
       "      <th>marketCap</th>\n",
       "      <th>...</th>\n",
       "      <th>exchange</th>\n",
       "      <th>volume</th>\n",
       "      <th>avgVolume</th>\n",
       "      <th>open</th>\n",
       "      <th>previousClose</th>\n",
       "      <th>eps</th>\n",
       "      <th>pe</th>\n",
       "      <th>earningsAnnouncement</th>\n",
       "      <th>sharesOutstanding</th>\n",
       "      <th>timestamp</th>\n",
       "    </tr>\n",
       "  </thead>\n",
       "  <tbody>\n",
       "    <tr>\n",
       "      <th>0</th>\n",
       "      <td>NVDA</td>\n",
       "      <td>NVIDIA Corporation</td>\n",
       "      <td>138.41</td>\n",
       "      <td>1.0218</td>\n",
       "      <td>1.4</td>\n",
       "      <td>134.02</td>\n",
       "      <td>140.27</td>\n",
       "      <td>152.89</td>\n",
       "      <td>47.32</td>\n",
       "      <td>3389660900000</td>\n",
       "      <td>...</td>\n",
       "      <td>NASDAQ</td>\n",
       "      <td>142263342</td>\n",
       "      <td>224002616</td>\n",
       "      <td>134.83</td>\n",
       "      <td>137.01</td>\n",
       "      <td>2.53</td>\n",
       "      <td>54.71</td>\n",
       "      <td>2025-02-26 21:00:00+00:00</td>\n",
       "      <td>24490000000</td>\n",
       "      <td>1970-01-01 00:00:01.735591129</td>\n",
       "    </tr>\n",
       "  </tbody>\n",
       "</table>\n",
       "<p>1 rows × 22 columns</p>\n",
       "</div>"
      ],
      "text/plain": [
       "  symbol                name   price  changesPercentage  change  dayLow  \\\n",
       "0   NVDA  NVIDIA Corporation  138.41             1.0218     1.4  134.02   \n",
       "\n",
       "   dayHigh  yearHigh  yearLow      marketCap  ...  exchange     volume  \\\n",
       "0   140.27    152.89    47.32  3389660900000  ...    NASDAQ  142263342   \n",
       "\n",
       "   avgVolume    open  previousClose   eps     pe      earningsAnnouncement  \\\n",
       "0  224002616  134.83         137.01  2.53  54.71 2025-02-26 21:00:00+00:00   \n",
       "\n",
       "   sharesOutstanding                     timestamp  \n",
       "0        24490000000 1970-01-01 00:00:01.735591129  \n",
       "\n",
       "[1 rows x 22 columns]"
      ]
     },
     "execution_count": 26,
     "metadata": {},
     "output_type": "execute_result"
    }
   ],
   "source": [
    "def preprocess_economic_data(df):\n",
    "    df['timestamp'] = pd.to_datetime(df['timestamp'])\n",
    "    df['earningsAnnouncement'] = pd.to_datetime(df['earningsAnnouncement'])\n",
    "    return df\n",
    "\n",
    "preprocessed_economic_data_df = preprocess_economic_data(economic_data_df)\n",
    "preprocessed_economic_data_df"
   ]
  },
  {
   "attachments": {},
   "cell_type": "markdown",
   "metadata": {},
   "source": [
    "### Storing Preprocessed Data\n",
    "\n",
    "Storing the preprocessed data as a CSV file"
   ]
  },
  {
   "cell_type": "code",
   "execution_count": 27,
   "metadata": {},
   "outputs": [],
   "source": [
    "preprocessed_economic_data_df.to_csv(\"data/processed/eco_ind.csv\")"
   ]
  },
  {
   "attachments": {},
   "cell_type": "markdown",
   "metadata": {},
   "source": [
    "### Preparation of Data for Embeddings\n",
    "\n",
    "This code block performs the following steps to process and prepare a CSV file for use in document-based machine learning tasks, such as retrieval-augmented generation (RAG): \n",
    "\n",
    "- The `CSVLoader` from Huggingface is used to load the contents of the CSV file located at `data/processed/eco_ind.csv`. The data is loaded as a list of documents, where each document represents a row or section of the CSV file.\n",
    "- A `RecursiveCharacterTextSplitter` is defined with a `chunk_size` of 50 characters and an overlap of 5 characters. This ensures that large documents are split into smaller, manageable chunks while maintaining some overlap for context preservation.\n",
    "- The loaded documents are processed through the `text_splitter`, resulting in a list of smaller, split documents. These chunks are suitable for embedding and querying tasks.\n",
    "- A `HuggingFaceEmbeddings` instance is initialized. This embedding model will be used to convert the document chunks into dense vector representations for similarity search or retrieval tasks.\n",
    "\n",
    "This pipeline prepares the CSV data for downstream applications like vector storage and query-based retrieval.\n",
    "\n",
    "**Note:** Retrieval-Augmented Generation (RAG) is an AI technique that combines information retrieval with generative models. It retrieves relevant documents from a database or knowledge base and uses them as context for a language model to generate accurate and context-aware responses."
   ]
  },
  {
   "cell_type": "code",
   "execution_count": 28,
   "metadata": {},
   "outputs": [],
   "source": [
    "# Using Document loader from Huggingface to generate documents of CSV file\n",
    "csv_loader = CSVLoader('data/processed/eco_ind.csv')\n",
    "documents = csv_loader.load()\n",
    "\n",
    "# Initializing text splitter\n",
    "# text_splitter = RecursiveCharacterTextSplitter(chunk_size=50, chunk_overlap=5)\n",
    "\n",
    "# Splitting documents with text splitter\n",
    "# splitted_documents = text_splitter.split_documents(documents)\n",
    "\n",
    "# Initializing Embeddings\n",
    "embeddings = HuggingFaceEmbeddings()\n"
   ]
  },
  {
   "attachments": {},
   "cell_type": "markdown",
   "metadata": {},
   "source": [
    "### Vectore Database\n",
    "\n",
    "Initializes and persists a vector database using Chroma for efficient document storage and retrieval in a Retrieval-Augmented Generation (RAG) pipeline:\n",
    "\n",
    "- `persist_directory` specifies the location (`'docs/chroma_rag/'`) where the vector database will be stored for future use.\n",
    "- `Chroma.from_documents` creates a vector database by:\n",
    "    - **Documents**: Adding the pre-processed documents.\n",
    "    - **Collection Name**: Assigning a logical group identifier (`\"economic_data\"`) for the stored data.\n",
    "    - **Embeddings**: Converting the documents into dense vector representations using the previously initialized embedding model.\n",
    "    - **Persist Directory**: Storing the vector database in the specified directory.\n",
    "- `vectordb.persist()` ensures the vector database is saved on disk, making it reusable for subsequent tasks without needing to reload or reprocess the data.\n",
    "\n",
    "This setup allows efficient document retrieval for RAG pipelines or other similarity-based search tasks\n",
    "\n",
    "**Note:** Embeddings are dense vector representations of text or data that capture semantic meaning in a numerical format. They enable efficient similarity search, clustering, and retrieval by mapping similar items closer in vector space.\n"
   ]
  },
  {
   "cell_type": "code",
   "execution_count": 29,
   "metadata": {},
   "outputs": [],
   "source": [
    "persist_directory = 'docs/chroma_rag/'\n",
    "\n",
    "vectordb = Chroma.from_documents(\n",
    "    documents=documents, \n",
    "    collection_name=\"economic_data\",\n",
    "    embedding=embeddings,\n",
    "    persist_directory=persist_directory\n",
    ")\n",
    "\n",
    "vectordb.persist()"
   ]
  },
  {
   "attachments": {},
   "cell_type": "markdown",
   "metadata": {},
   "source": [
    "### Settings for Huggingfacehub API\n",
    "\n",
    "- Create an account on [Hugging Face](https://huggingface.co/)\n",
    "- Create a new token from [Hugging Face Tokens](https://huggingface.co/settings/token))\n",
    "- Create a file **.env** in the project folder\n",
    "- Set the API key in this file as `HUGGINGFACEHUB_API_KEY=YOUR_KEY`"
   ]
  },
  {
   "cell_type": "code",
   "execution_count": 30,
   "metadata": {},
   "outputs": [],
   "source": [
    "load_dotenv()\n",
    "\n",
    "HUGGINGFACEHUB_API_KEY = os.getenv(\"HUGGINGFACEHUB_API_KEY\")"
   ]
  },
  {
   "attachments": {},
   "cell_type": "markdown",
   "metadata": {},
   "source": [
    "### RAG Pipeline\n",
    "\n",
    "Implements a Retrieval-Augmented Generation (RAG) pipeline for generating detailed financial reports using a Hugging Face large language model (LLM) and a Chroma-based retriever. Here's an overview of each step:\n",
    "\n",
    "1. Initialize the LLM:\n",
    "   - The `HuggingFaceHub` is used to load the `tiiuae/falcon-7b-instruct` model.\n",
    "   - A low `temperature` of 0.1 is set for more deterministic outputs, and an API key is provided for access.\n",
    "\n",
    "2. Initialize the Retriever:\n",
    "   - A retriever is created from the Chroma vector database, enabling the retrieval of the top 2 most relevant documents (`search_kwargs={\"k\": 2}`) based on the user's query.\n",
    "\n",
    "3. Define the Prompt Template:\n",
    "   - A prompt template is created to instruct the LLM to act as a financial market expert, using the retrieved context (`{context}`) and the user query (`{question}`) to generate a comprehensive financial report.\n",
    "\n",
    "4. Retrieve Relevant Context:\n",
    "   - The retriever fetches the most relevant documents from the vector database based on the user's prompt. This step ensures the model has the necessary context for answering the query.\n",
    "\n",
    "5. Initialize the Retrieval Chain**:\n",
    "   - The `RetrievalQA` chain combines the retriever and the LLM into a single pipeline.\n",
    "   - The retrieved context is passed through the prompt template to guide the LLM in generating accurate and detailed responses.\n",
    "\n",
    "6. Query the Model:\n",
    "   - The user's prompt is passed to the RAG pipeline, which retrieves relevant context from vector database and generates a detailed financial report using the LLM.\n",
    "   - The response is printed to display the generated financial report.\n",
    "\n",
    "This pipeline efficiently combines document retrieval and generative AI to provide context-aware and accurate outputs."
   ]
  },
  {
   "cell_type": "code",
   "execution_count": 31,
   "metadata": {},
   "outputs": [
    {
     "name": "stdout",
     "output_type": "stream",
     "text": [
      "Retrieved Context: [Document(metadata={'row': 0, 'source': 'data/processed/eco_ind.csv'}, page_content=': 0\\nsymbol: NVDA\\nname: NVIDIA Corporation\\nprice: 138.41\\nchangesPercentage: 1.0218\\nchange: 1.4\\ndayLow: 134.02\\ndayHigh: 140.27\\nyearHigh: 152.89\\nyearLow: 47.32\\nmarketCap: 3389660900000\\npriceAvg50: 139.9534\\npriceAvg200: 117.38416\\nexchange: NASDAQ\\nvolume: 142263342\\navgVolume: 224002616\\nopen: 134.83\\npreviousClose: 137.01\\neps: 2.53\\npe: 54.71\\nearningsAnnouncement: 2025-02-26 21:00:00+00:00\\nsharesOutstanding: 24490000000\\ntimestamp: 1970-01-01 00:00:01.735591129'), Document(metadata={'row': 0, 'source': 'data/processed/eco_ind.csv'}, page_content=': 0\\nsymbol: NVDA\\nname: NVIDIA Corporation\\nprice: 137.01\\nchangesPercentage: -2.0868\\nchange: -2.92\\ndayLow: 134.71\\ndayHigh: 139.02\\nyearHigh: 152.89\\nyearLow: 47.32\\nmarketCap: 3355374900000\\npriceAvg50: 139.9276\\npriceAvg200: 117.15355\\nexchange: NASDAQ\\nvolume: 169431279\\navgVolume: 224910079\\nopen: 138.555\\npreviousClose: 139.93\\neps: 2.54\\npe: 53.94\\nearningsAnnouncement: 2025-02-26 21:00:00+00:00\\nsharesOutstanding: 24490000000\\ntimestamp: 1970-01-01 00:00:01.735333202')]\n",
      "LLM Response: {'query': 'Provide an extensive analysis for NVIDIA Corporation and generate a small financial report for it', 'result': \"You are a Financial Market Expert. Using the provided market information: : 0\\nsymbol: NVDA\\nname: NVIDIA Corporation\\nprice: 138.41\\nchangesPercentage: 1.0218\\nchange: 1.4\\ndayLow: 134.02\\ndayHigh: 140.27\\nyearHigh: 152.89\\nyearLow: 47.32\\nmarketCap: 3389660900000\\npriceAvg50: 139.9534\\npriceAvg200: 117.38416\\nexchange: NASDAQ\\nvolume: 142263342\\navgVolume: 224002616\\nopen: 134.83\\npreviousClose: 137.01\\neps: 2.53\\npe: 54.71\\nearningsAnnouncement: 2025-02-26 21:00:00+00:00\\nsharesOutstanding: 24490000000\\ntimestamp: 1970-01-01 00:00:01.735591129\\n\\n: 0\\nsymbol: NVDA\\nname: NVIDIA Corporation\\nprice: 137.01\\nchangesPercentage: -2.0868\\nchange: -2.92\\ndayLow: 134.71\\ndayHigh: 139.02\\nyearHigh: 152.89\\nyearLow: 47.32\\nmarketCap: 3355374900000\\npriceAvg50: 139.9276\\npriceAvg200: 117.15355\\nexchange: NASDAQ\\nvolume: 169431279\\navgVolume: 224910079\\nopen: 138.555\\npreviousClose: 139.93\\neps: 2.54\\npe: 53.94\\nearningsAnnouncement: 2025-02-26 21:00:00+00:00\\nsharesOutstanding: 24490000000\\ntimestamp: 1970-01-01 00:00:01.735333202, generate an extensive financial report and answer this query: Provide an extensive analysis for NVIDIA Corporation and generate a small financial report for it.\\nNVIDIA Corporation (NVDA) is a leading provider of visual computing technologies. The company designs and develops graphics processing units (GPUs) and other related hardware and software. It serves customers in the gaming, professional visualization, and automotive markets. NVIDIA's GPUs are used in gaming PCs, laptops, and mobile devices to enhance graphics performance. The company's products are also used in professional visualization, such as in medical and scientific simulations. Additionally, NVIDIA's GPUs are used\"}\n"
     ]
    }
   ],
   "source": [
    "# Initializing the LLM model\n",
    "llm = HuggingFaceHub(\n",
    "    repo_id=\"tiiuae/falcon-7b-instruct\",\n",
    "    model_kwargs={\"temperature\": 0.1},\n",
    "    huggingfacehub_api_token = HUGGINGFACEHUB_API_KEY\n",
    ")\n",
    "\n",
    "\n",
    "# Initializing the retreiver for RAG Pipline\n",
    "retriever = vectordb.as_retriever(search_kwargs={\"k\":2})\n",
    "\n",
    "# Template prompt for RAG pipeline\n",
    "template = \"\"\"You are a Financial Market Expert. Using the provided market information: {context}, generate an extensive financial report and answer this query: {question}.\"\"\"\n",
    "\n",
    "# Initialize prompt template\n",
    "PROMPT = PromptTemplate(input_variables=[\"context\", \"question\"], template=template)\n",
    "\n",
    "user_prompt = \"Provide an extensive analysis for NVIDIA Corporation and generate a small financial report for it\"\n",
    "\n",
    "# Debug retrieved context\n",
    "retrieved_context = retriever.get_relevant_documents(user_prompt)\n",
    "print(\"Retrieved Context:\", retrieved_context)\n",
    "\n",
    "# Initialize retriever chain\n",
    "retrieval_chain = RetrievalQA.from_chain_type(\n",
    "    llm=llm,\n",
    "    chain_type=\"stuff\",\n",
    "    chain_type_kwargs={\"prompt\": PROMPT},\n",
    "    retriever=retriever\n",
    ")\n",
    "\n",
    "# Query the model\n",
    "llm_response = retrieval_chain({\"query\": user_prompt})\n",
    "print(\"LLM Response:\", llm_response)"
   ]
  },
  {
   "attachments": {},
   "cell_type": "markdown",
   "metadata": {},
   "source": [
    "### Markdown Result\n",
    "\n",
    "Description of the result in markdown format."
   ]
  },
  {
   "cell_type": "code",
   "execution_count": 32,
   "metadata": {},
   "outputs": [
    {
     "data": {
      "text/markdown": [
       "You are a Financial Market Expert. Using the provided market information: : 0\n",
       "symbol: NVDA\n",
       "name: NVIDIA Corporation\n",
       "price: 138.41\n",
       "changesPercentage: 1.0218\n",
       "change: 1.4\n",
       "dayLow: 134.02\n",
       "dayHigh: 140.27\n",
       "yearHigh: 152.89\n",
       "yearLow: 47.32\n",
       "marketCap: 3389660900000\n",
       "priceAvg50: 139.9534\n",
       "priceAvg200: 117.38416\n",
       "exchange: NASDAQ\n",
       "volume: 142263342\n",
       "avgVolume: 224002616\n",
       "open: 134.83\n",
       "previousClose: 137.01\n",
       "eps: 2.53\n",
       "pe: 54.71\n",
       "earningsAnnouncement: 2025-02-26 21:00:00+00:00\n",
       "sharesOutstanding: 24490000000\n",
       "timestamp: 1970-01-01 00:00:01.735591129\n",
       "\n",
       ": 0\n",
       "symbol: NVDA\n",
       "name: NVIDIA Corporation\n",
       "price: 137.01\n",
       "changesPercentage: -2.0868\n",
       "change: -2.92\n",
       "dayLow: 134.71\n",
       "dayHigh: 139.02\n",
       "yearHigh: 152.89\n",
       "yearLow: 47.32\n",
       "marketCap: 3355374900000\n",
       "priceAvg50: 139.9276\n",
       "priceAvg200: 117.15355\n",
       "exchange: NASDAQ\n",
       "volume: 169431279\n",
       "avgVolume: 224910079\n",
       "open: 138.555\n",
       "previousClose: 139.93\n",
       "eps: 2.54\n",
       "pe: 53.94\n",
       "earningsAnnouncement: 2025-02-26 21:00:00+00:00\n",
       "sharesOutstanding: 24490000000\n",
       "timestamp: 1970-01-01 00:00:01.735333202, generate an extensive financial report and answer this query: Provide an extensive analysis for NVIDIA Corporation and generate a small financial report for it.\n",
       "NVIDIA Corporation (NVDA) is a leading provider of visual computing technologies. The company designs and develops graphics processing units (GPUs) and other related hardware and software. It serves customers in the gaming, professional visualization, and automotive markets. NVIDIA's GPUs are used in gaming PCs, laptops, and mobile devices to enhance graphics performance. The company's products are also used in professional visualization, such as in medical and scientific simulations. Additionally, NVIDIA's GPUs are used"
      ],
      "text/plain": [
       "<IPython.core.display.Markdown object>"
      ]
     },
     "execution_count": 32,
     "metadata": {},
     "output_type": "execute_result"
    }
   ],
   "source": [
    "Markdown(llm_response['result'])"
   ]
  },
  {
   "cell_type": "code",
   "execution_count": null,
   "metadata": {},
   "outputs": [],
   "source": []
  }
 ],
 "metadata": {
  "kernelspec": {
   "display_name": "finance-llm-conda-venv",
   "language": "python",
   "name": "python3"
  },
  "language_info": {
   "codemirror_mode": {
    "name": "ipython",
    "version": 3
   },
   "file_extension": ".py",
   "mimetype": "text/x-python",
   "name": "python",
   "nbconvert_exporter": "python",
   "pygments_lexer": "ipython3",
   "version": "3.10.16"
  },
  "orig_nbformat": 4,
  "vscode": {
   "interpreter": {
    "hash": "d781f1cb5990c1dfa0e5cca666d7218036c3fc067e283c7bc1088274c03c75ae"
   }
  }
 },
 "nbformat": 4,
 "nbformat_minor": 2
}
